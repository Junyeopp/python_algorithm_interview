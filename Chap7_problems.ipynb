{
 "cells": [
  {
   "cell_type": "markdown",
   "source": [
    "## Chapter 7"
   ],
   "metadata": {
    "collapsed": false
   }
  },
  {
   "cell_type": "markdown",
   "source": [
    "### 1. Two Sum\n",
    "- https://leetcode.com/problems/two-sum/"
   ],
   "metadata": {
    "collapsed": false
   }
  },
  {
   "cell_type": "markdown",
   "source": [
    "#### Answer 1 / Brute-Force\n",
    "- \tTime Limit Exceeded"
   ],
   "metadata": {
    "collapsed": false
   }
  },
  {
   "cell_type": "code",
   "execution_count": null,
   "outputs": [],
   "source": [
    "def twoSum(self, nums: List[int], target: int) -> List[int]:\n",
    "    for i in range(len(nums)):\n",
    "        for j in range(i + 1, len(nums)):\n",
    "            if nums[i] + nums[j] == target:\n",
    "                return [i, j]"
   ],
   "metadata": {
    "collapsed": false,
    "pycharm": {
     "name": "#%%\n"
    }
   }
  },
  {
   "cell_type": "markdown",
   "source": [
    "#### Answer 2 / O(n)\n",
    "- 44 ms\t15.1 MB"
   ],
   "metadata": {
    "collapsed": false
   }
  },
  {
   "cell_type": "code",
   "execution_count": null,
   "outputs": [],
   "source": [
    "def twoSum(self, nums: List[int], target: int) -> List[int]:\n",
    "    nums_map = dict()\n",
    "\n",
    "    for i, num in enumerate(nums):\n",
    "        if target - num in nums_map:\n",
    "            return [nums_map[target - num], i]\n",
    "        nums_map[num] = i"
   ],
   "metadata": {
    "collapsed": false,
    "pycharm": {
     "name": "#%%\n"
    }
   }
  },
  {
   "cell_type": "markdown",
   "source": [
    "### 42. Trapping Rain Water\n",
    "- https://leetcode.com/problems/trapping-rain-water/"
   ],
   "metadata": {
    "collapsed": false
   }
  },
  {
   "cell_type": "markdown",
   "source": [
    "#### Answer 1 / two pointer\n",
    "- 88 ms\t14.5 MB"
   ],
   "metadata": {
    "collapsed": false,
    "pycharm": {
     "name": "#%% md\n"
    }
   }
  },
  {
   "cell_type": "code",
   "source": [
    "def trap(self, height: List[int]) -> int:\n",
    "    if not height:\n",
    "        return 0\n",
    "\n",
    "    volume = 0\n",
    "    left, right = 0, len(height) - 1\n",
    "    left_max, right_max = height[left], height[right]\n",
    "\n",
    "    while left < right:\n",
    "        left_max, right_max = max(height[left], left_max), max(height[right], right_max)\n",
    "        if left_max < right_max:\n",
    "            volume += left_max - height[left]\n",
    "            left += 1\n",
    "        else:\n",
    "            volume += right_max - height[right]\n",
    "            right -= 1\n",
    "\n",
    "    return volume"
   ],
   "metadata": {
    "collapsed": false,
    "pycharm": {
     "name": "#%%\n"
    }
   },
   "execution_count": null,
   "outputs": []
  },
  {
   "cell_type": "markdown",
   "source": [
    "#### Answer 2 / stack\n",
    "- 52 ms\t14.4 MB"
   ],
   "metadata": {
    "collapsed": false
   }
  },
  {
   "cell_type": "code",
   "execution_count": null,
   "outputs": [],
   "source": [
    "def trap(self, height: List[int]) -> int:\n",
    "\n",
    "    stack = []\n",
    "    volume = 0\n",
    "\n",
    "    for i in range(len(height)):\n",
    "\n",
    "        # when meet inflection point\n",
    "        while stack and height[i] > height[stack[-1]]:\n",
    "            # pop\n",
    "            top = stack.pop()\n",
    "\n",
    "            if not len(stack):\n",
    "                break\n",
    "            distance = i - stack[-1] - 1\n",
    "            waters = min(height[i], height[stack[-1]]) - height[top]\n",
    "\n",
    "            volume += distance * waters\n",
    "\n",
    "        stack.append(i)\n",
    "    return volume"
   ],
   "metadata": {
    "collapsed": false,
    "pycharm": {
     "name": "#%%\n"
    }
   }
  },
  {
   "cell_type": "markdown",
   "source": [
    "### 15. 3Sum\n",
    "- https://leetcode.com/problems/3sum/"
   ],
   "metadata": {
    "collapsed": false
   }
  },
  {
   "cell_type": "markdown",
   "source": [
    "#### Answer 1 / two pointer\n",
    "- 896 ms\t16.7 MB"
   ],
   "metadata": {
    "collapsed": false,
    "pycharm": {
     "name": "#%% md\n"
    }
   }
  },
  {
   "cell_type": "code",
   "source": [
    "def threeSum(self, nums: List[int]) -> List[List[int]]:\n",
    "    results = []\n",
    "    nums.sort()\n",
    "\n",
    "    for i in range(len(nums) - 2):\n",
    "        # skip repeated value\n",
    "        if i > 0 and nums[i] == nums[i - 1]:\n",
    "            continue\n",
    "\n",
    "        # two pointer\n",
    "        left, right = i + 1, len(nums) - 1\n",
    "        while left < right:\n",
    "            sum = nums[i] + nums[left] + nums[right]\n",
    "            if sum < 0:\n",
    "                left += 1\n",
    "            elif sum > 0:\n",
    "                right -= 1\n",
    "            else:\n",
    "                # add results\n",
    "                results.append((nums[i], nums[left], nums[right]))\n",
    "                # and next step\n",
    "                while left < right and nums[left] == nums[left + 1]:\n",
    "                    left += 1\n",
    "                while left < right and nums[right] == nums[right - 1]:\n",
    "                    right -= 1\n",
    "                left += 1\n",
    "                right -= 1\n",
    "    return results"
   ],
   "metadata": {
    "collapsed": false,
    "pycharm": {
     "name": "#%%\n"
    }
   },
   "execution_count": null,
   "outputs": []
  },
  {
   "cell_type": "markdown",
   "source": [
    "### 561. Array Partition I\n",
    "- https://leetcode.com/problems/array-partition-i/"
   ],
   "metadata": {
    "collapsed": false
   }
  },
  {
   "cell_type": "markdown",
   "source": [
    "#### Answer 1 / Pythonic Way\n",
    "- 360 ms\t16.2 MB"
   ],
   "metadata": {
    "collapsed": false,
    "pycharm": {
     "name": "#%% md\n"
    }
   }
  },
  {
   "cell_type": "code",
   "source": [
    "def arrayPairSum(self, nums: List[int]) -> int:\n",
    "        return sum(sorted(nums)[::2])"
   ],
   "metadata": {
    "collapsed": false,
    "pycharm": {
     "name": "#%%\n"
    }
   },
   "execution_count": null,
   "outputs": []
  },
  {
   "cell_type": "markdown",
   "source": [
    "### 238. Product of Array Except Self\n",
    "- https://leetcode.com/problems/product-of-array-except-self/"
   ],
   "metadata": {
    "collapsed": false
   }
  },
  {
   "cell_type": "markdown",
   "source": [
    "#### Answer 1\n",
    "- 120 ms\t20.4 MB"
   ],
   "metadata": {
    "collapsed": false,
    "pycharm": {
     "name": "#%% md\n"
    }
   }
  },
  {
   "cell_type": "code",
   "source": [
    "def productExceptSelf(self, nums: List[int]) -> List[int]:\n",
    "    out = []\n",
    "    p = 1\n",
    "    # from left\n",
    "    for i in range(0, len(nums)):\n",
    "        out.append(p)\n",
    "        p = p * nums[i]\n",
    "    p = 1\n",
    "\n",
    "    # times from right\n",
    "    for i in range(len(nums) - 1, 0 - 1, -1):\n",
    "        out[i] = out[i] * p\n",
    "        p = p * nums[i]\n",
    "    return out"
   ],
   "metadata": {
    "collapsed": false,
    "pycharm": {
     "name": "#%%\n"
    }
   },
   "execution_count": null,
   "outputs": []
  },
  {
   "cell_type": "markdown",
   "source": [
    "### 238. Product of Array Except Self\n",
    "- https://leetcode.com/problems/product-of-array-except-self/"
   ],
   "metadata": {
    "collapsed": false,
    "pycharm": {
     "name": "#%% md\n"
    }
   }
  },
  {
   "cell_type": "markdown",
   "source": [
    "#### Answer 1\n",
    "- 120 ms\t20.4 MB"
   ],
   "metadata": {
    "collapsed": false
   }
  },
  {
   "cell_type": "code",
   "source": [
    "def productExceptSelf(self, nums: List[int]) -> List[int]:\n",
    "    out = []\n",
    "    p = 1\n",
    "    # from left\n",
    "    for i in range(0, len(nums)):\n",
    "        out.append(p)\n",
    "        p = p * nums[i]\n",
    "    p = 1\n",
    "\n",
    "    # times from right\n",
    "    for i in range(len(nums) - 1, 0 - 1, -1):\n",
    "        out[i] = out[i] * p\n",
    "        p = p * nums[i]\n",
    "    return out"
   ],
   "metadata": {
    "collapsed": false,
    "pycharm": {
     "name": "#%%\n"
    }
   },
   "execution_count": null,
   "outputs": []
  },
  {
   "cell_type": "markdown",
   "source": [
    "### 121. Best Time to Buy and Sell Stock\n",
    "- https://leetcode.com/problems/best-time-to-buy-and-sell-stock/"
   ],
   "metadata": {
    "collapsed": false
   }
  },
  {
   "cell_type": "markdown",
   "source": [
    "#### Answer 1\n",
    "- 52 ms\t15.1 MB"
   ],
   "metadata": {
    "collapsed": false
   }
  },
  {
   "cell_type": "code",
   "execution_count": null,
   "outputs": [],
   "source": [
    "def maxProfit(self, prices: List[int]) -> int:\n",
    "    max_profit = 0\n",
    "    min_price = sys.maxsize\n",
    "\n",
    "    for price in prices:\n",
    "        min_price = min(price, min_price)\n",
    "        max_profit = max(price - min_price, max_profit)\n",
    "    return max_profit"
   ],
   "metadata": {
    "collapsed": false,
    "pycharm": {
     "name": "#%%\n"
    }
   }
  }
 ],
 "metadata": {
  "kernelspec": {
   "display_name": "Python 3",
   "language": "python",
   "name": "python3"
  },
  "language_info": {
   "codemirror_mode": {
    "name": "ipython",
    "version": 2
   },
   "file_extension": ".py",
   "mimetype": "text/x-python",
   "name": "python",
   "nbconvert_exporter": "python",
   "pygments_lexer": "ipython2",
   "version": "2.7.6"
  }
 },
 "nbformat": 4,
 "nbformat_minor": 0
}