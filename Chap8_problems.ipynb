{
 "cells": [
  {
   "cell_type": "markdown",
   "source": [
    "## Chapter 8"
   ],
   "metadata": {
    "collapsed": false
   }
  },
  {
   "cell_type": "markdown",
   "source": [
    "### 234. Palindrome Linked List\n",
    "- https://leetcode.com/problems/palindrome-linked-list/"
   ],
   "metadata": {
    "collapsed": false
   }
  },
  {
   "cell_type": "markdown",
   "source": [
    "#### Answer 1 / change to list\n",
    "- 160 ms\t24 MB"
   ],
   "metadata": {
    "collapsed": false
   }
  },
  {
   "cell_type": "code",
   "execution_count": null,
   "outputs": [],
   "source": [
    "def isPalindrome(self, head: ListNode) -> bool:\n",
    "    q: List = []\n",
    "\n",
    "    if not head:\n",
    "        return True\n",
    "\n",
    "    node = head\n",
    "    # change to list\n",
    "    while node is not None:\n",
    "        q.append(node.val)\n",
    "        node = node.next\n",
    "\n",
    "    # check palindrome\n",
    "    while len(q) > 1:\n",
    "        if q.pop(0) != q.pop():\n",
    "            return False\n",
    "\n",
    "    return True"
   ],
   "metadata": {
    "collapsed": false,
    "pycharm": {
     "name": "#%%\n"
    }
   }
  },
  {
   "cell_type": "markdown",
   "source": [
    "#### Answer 2 / with deque\n",
    "- 68 ms\t24 MB"
   ],
   "metadata": {
    "collapsed": false
   }
  },
  {
   "cell_type": "code",
   "execution_count": null,
   "outputs": [],
   "source": [
    "def isPalindrome(self, head: ListNode) -> bool:\n",
    "    q: Deque = collections.deque()\n",
    "\n",
    "    if not head:\n",
    "        return True\n",
    "\n",
    "    node = head\n",
    "    # change to deque\n",
    "    while node is not None:\n",
    "        q.append(node.val)\n",
    "        node = node.next\n",
    "\n",
    "    # check palindrome\n",
    "    while len(q) > 1:\n",
    "        if q.popleft() != q.pop():\n",
    "            return False\n",
    "    return True"
   ],
   "metadata": {
    "collapsed": false,
    "pycharm": {
     "name": "#%%\n"
    }
   }
  },
  {
   "cell_type": "markdown",
   "source": [
    "#### Answer 3 / Runner\n",
    "- 68 ms\t24 MB"
   ],
   "metadata": {
    "collapsed": false
   }
  },
  {
   "cell_type": "code",
   "execution_count": null,
   "outputs": [],
   "source": [
    "def isPalindrome(self, head: ListNode) -> bool:\n",
    "\n",
    "    rev = None\n",
    "    slow = fast = head\n",
    "    # create reversed linked list with runner\n",
    "    while fast and fast.next:\n",
    "        fast = fast.next.next\n",
    "        rev, rev.next, slow = slow, rev, slow.next\n",
    "\n",
    "    if fast:    # if len(list) is odd\n",
    "        slow = slow.next    # pass center\n",
    "\n",
    "    # check palindrome\n",
    "    while rev and rev.val == slow.val:\n",
    "        slow, rev = slow.next, rev.next\n",
    "\n",
    "    return not rev\n"
   ],
   "metadata": {
    "collapsed": false,
    "pycharm": {
     "name": "#%%\n"
    }
   }
  },
  {
   "cell_type": "markdown",
   "source": [
    "###\n",
    "- https://leetcode.com/problems/palindrome-linked-list/"
   ],
   "metadata": {
    "collapsed": false
   }
  },
  {
   "cell_type": "markdown",
   "source": [
    "#### Answer 1 / change to list\n",
    "- 160 ms\t24 MB"
   ],
   "metadata": {
    "collapsed": false
   }
  },
  {
   "cell_type": "code",
   "execution_count": null,
   "outputs": [],
   "source": [
    "def isPalindrome(self, head: ListNode) -> bool:\n",
    "    q: List = []\n",
    "\n",
    "    if not head:\n",
    "        return True\n",
    "\n",
    "    node = head\n",
    "    # change to list\n",
    "    while node is not None:\n",
    "        q.append(node.val)\n",
    "        node = node.next\n",
    "\n",
    "    # check palindrome\n",
    "    while len(q) > 1:\n",
    "        if q.pop(0) != q.pop():\n",
    "            return False\n",
    "\n",
    "    return True"
   ],
   "metadata": {
    "collapsed": false,
    "pycharm": {
     "name": "#%%\n"
    }
   }
  }
 ],
 "metadata": {
  "kernelspec": {
   "display_name": "Python 3",
   "language": "python",
   "name": "python3"
  },
  "language_info": {
   "codemirror_mode": {
    "name": "ipython",
    "version": 2
   },
   "file_extension": ".py",
   "mimetype": "text/x-python",
   "name": "python",
   "nbconvert_exporter": "python",
   "pygments_lexer": "ipython2",
   "version": "2.7.6"
  }
 },
 "nbformat": 4,
 "nbformat_minor": 0
}